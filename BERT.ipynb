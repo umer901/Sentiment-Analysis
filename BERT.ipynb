{
  "nbformat": 4,
  "nbformat_minor": 0,
  "metadata": {
    "colab": {
      "provenance": [],
      "toc_visible": true,
      "machine_shape": "hm",
      "gpuType": "V100"
    },
    "kernelspec": {
      "name": "python3",
      "display_name": "Python 3"
    },
    "language_info": {
      "name": "python"
    },
    "accelerator": "GPU"
  },
  "cells": [
    {
      "cell_type": "markdown",
      "source": [
        "## **We attempt to use BERT for multi-class classification of toxic texts.**"
      ],
      "metadata": {
        "id": "eqPqTFIW1Xn_"
      }
    },
    {
      "cell_type": "code",
      "source": [
        "import pandas as pd\n",
        "import numpy as np\n",
        "\n",
        "import torch\n",
        "from torch.utils.data import DataLoader, TensorDataset\n",
        "from transformers import BertTokenizer, BertForSequenceClassification, AdamW\n",
        "from sklearn.model_selection import train_test_split\n",
        "import torch\n",
        "from torch import nn\n",
        "from torch.utils.data import Dataset, DataLoader\n",
        "from transformers import BertTokenizer, BertModel\n",
        "from sklearn.model_selection import train_test_split\n",
        "\n",
        "\n",
        "import transformers\n",
        "from transformers import AdamW, get_linear_schedule_with_warmup\n",
        "from tqdm import tqdm\n",
        "import seaborn as sns\n",
        "import matplotlib as plt\n",
        "import torch.nn.functional as Func"
      ],
      "metadata": {
        "id": "XDjTNciSPnQ6"
      },
      "execution_count": 40,
      "outputs": []
    },
    {
      "cell_type": "markdown",
      "source": [
        "These are all the imports, initially we made use of the scheduler but later deicded against the added complexity of code and insignificant performance gains. Other imports are primarily used for functions tasks."
      ],
      "metadata": {
        "id": "itlthcUi1GUf"
      }
    },
    {
      "cell_type": "code",
      "source": [
        "\n",
        "\n",
        "# Load your dataset\n",
        "file_path = '/content/train.csv'  # Replace with the path to your dataset file\n",
        "data = pd.read_csv(file_path)\n",
        "\n",
        "# Initialize the BERT tokenizer\n",
        "tokenizer = BertTokenizer.from_pretrained('bert-base-uncased')\n",
        "\n",
        "# Tokenize and count tokens for each text\n",
        "token_counts = []\n",
        "for text in data['comment_text']:\n",
        "    # Encode the text, adding special tokens for BERT (CLS and SEP)\n",
        "    encoded_text = tokenizer.encode(text, add_special_tokens=True)\n",
        "    token_counts.append(len(encoded_text))\n",
        "\n",
        "\n"
      ],
      "metadata": {
        "colab": {
          "base_uri": "https://localhost:8080/"
        },
        "id": "o49DaO0ZZUvg",
        "outputId": "0a552b90-9ee9-462f-c6b6-551bfa9989df"
      },
      "execution_count": 32,
      "outputs": [
        {
          "output_type": "stream",
          "name": "stderr",
          "text": [
            "Token indices sequence length is longer than the specified maximum sequence length for this model (631 > 512). Running this sequence through the model will result in indexing errors\n"
          ]
        }
      ]
    },
    {
      "cell_type": "code",
      "source": [
        "tokenizer = BertTokenizer.from_pretrained('bert-base-uncased')\n",
        "token_counts = [len(tokenizer.encode(text, add_special_tokens=True)) for text in data['comment_text']]"
      ],
      "metadata": {
        "colab": {
          "base_uri": "https://localhost:8080/"
        },
        "id": "ZTCm9wVUWjcL",
        "outputId": "f5aa5b8d-358a-4b3d-9967-97e8e2e259b1"
      },
      "execution_count": 33,
      "outputs": [
        {
          "output_type": "stream",
          "name": "stderr",
          "text": [
            "Token indices sequence length is longer than the specified maximum sequence length for this model (631 > 512). Running this sequence through the model will result in indexing errors\n"
          ]
        }
      ]
    },
    {
      "cell_type": "code",
      "source": [
        "# Create a histogram of token counts\n",
        "import matplotlib.pyplot as plt\n",
        "plt.figure(figsize=(10, 6))\n",
        "sns.histplot(token_counts, bins=100, kde=False)\n",
        "plt.title('Distribution of Token Counts in Texts')\n",
        "plt.xlabel('Token Count')\n",
        "plt.ylabel('Number of Texts')\n",
        "sns.set_style(\"white\")  # Set style to white for better appearance in LaTeX\n",
        "plt.show()"
      ],
      "metadata": {
        "colab": {
          "base_uri": "https://localhost:8080/",
          "height": 564
        },
        "id": "_mesi340Vw3H",
        "outputId": "778beaf4-061b-4f9e-e16c-0a7bb85e0ddf"
      },
      "execution_count": 42,
      "outputs": [
        {
          "output_type": "display_data",
          "data": {
            "text/plain": [
              "<Figure size 1000x600 with 1 Axes>"
            ],
            "image/png": "[encoded data removed]"
          },
          "metadata": {}
        }
      ]
    },
    {
      "cell_type": "code",
      "source": [
        "percentiles = [np.percentile(token_counts, p) for p in range(0, 101, 10)]\n",
        "print(percentiles)"
      ],
      "metadata": {
        "colab": {
          "base_uri": "https://localhost:8080/"
        },
        "id": "sokSkXAmXnkv",
        "outputId": "2d34d55f-6ecc-41b4-bf0a-c038dafd789b"
      },
      "execution_count": 37,
      "outputs": [
        {
          "output_type": "stream",
          "name": "stdout",
          "text": [
            "[4.0, 15.0, 22.0, 31.0, 40.0, 52.0, 67.0, 89.0, 125.0, 207.0, 4950.0]\n"
          ]
        }
      ]
    },
    {
      "cell_type": "code",
      "source": [
        "percentile_95 = np.percentile(token_counts, 95)\n",
        "print(percentile_95)"
      ],
      "metadata": {
        "colab": {
          "base_uri": "https://localhost:8080/"
        },
        "id": "uHhZn2nFZaVo",
        "outputId": "76f9391b-88b4-4cce-9e06-dffdd239a044"
      },
      "execution_count": 38,
      "outputs": [
        {
          "output_type": "stream",
          "name": "stdout",
          "text": [
            "310.5\n"
          ]
        }
      ]
    },
    {
      "cell_type": "code",
      "source": [
        "percentiles = [np.percentile(token_counts, p) for p in range(101)]\n",
        "\n",
        "# Plotting\n",
        "plt.figure(figsize=(10, 6))\n",
        "plt.plot(range(101), percentiles)\n",
        "plt.axhline(y=percentile_98, color='r', linestyle='--')\n",
        "plt.axvline(x=95, color='r', linestyle='--')\n",
        "plt.title('Token Count Percentiles')\n",
        "plt.xlabel('Percentile')\n",
        "plt.ylabel('Token Count')\n",
        "plt.grid(True)\n",
        "plt.show()"
      ],
      "metadata": {
        "colab": {
          "base_uri": "https://localhost:8080/",
          "height": 564
        },
        "id": "Rpav0JyJay3i",
        "outputId": "273ec147-1916-4195-9453-0559e095d58d"
      },
      "execution_count": 43,
      "outputs": [
        {
          "output_type": "display_data",
          "data": {
            "text/plain": [
              "<Figure size 1000x600 with 1 Axes>"
            ],
            "image/png": "[encoded data removed]"
          },
          "metadata": {}
        }
      ]
    },
    {
      "cell_type": "markdown",
      "source": [
        "# **In this model we will use BERT to solve this classification problem**"
      ],
      "metadata": {
        "id": "kQ9H4fSv6PDg"
      }
    },
    {
      "cell_type": "code",
      "source": [
        "data = pd.read_csv(\"/content/train.csv\")"
      ],
      "metadata": {
        "id": "JcgAiLim6r0k"
      },
      "execution_count": 44,
      "outputs": []
    },
    {
      "cell_type": "code",
      "source": [
        "device = torch.device('cuda' if torch.cuda.is_available() else 'cpu')\n",
        "device"
      ],
      "metadata": {
        "colab": {
          "base_uri": "https://localhost:8080/"
        },
        "id": "TsLeF_7WP_NC",
        "outputId": "31aa02bc-c1f1-4bf0-d787-1f09ecf315da"
      },
      "execution_count": 45,
      "outputs": [
        {
          "output_type": "execute_result",
          "data": {
            "text/plain": [
              "device(type='cuda')"
            ]
          },
          "metadata": {},
          "execution_count": 45
        }
      ]
    },
    {
      "cell_type": "code",
      "source": [
        "# Initialize the tokenizer\n",
        "tokenizer = BertTokenizer.from_pretrained('bert-base-uncased')\n",
        "\n",
        "# Tokenization function\n",
        "def tokenize_data(text, max_length=512):\n",
        "    return tokenizer.encode_plus(\n",
        "        text,\n",
        "        max_length=max_length,\n",
        "        truncation=True,\n",
        "        padding='max_length',\n",
        "        return_tensors='pt'\n",
        "    )\n",
        "\n",
        "# Preprocess the data\n",
        "class CommentDataset(Dataset):\n",
        "    def __init__(self, comments, labels):\n",
        "        self.comments = [tokenize_data(comment) for comment in comments]\n",
        "        self.labels = labels\n",
        "\n",
        "    def __len__(self):\n",
        "        return len(self.comments)\n",
        "\n",
        "    def __getitem__(self, idx):\n",
        "        item = {key: val.squeeze() for key, val in self.comments[idx].items()}\n",
        "        item['labels'] = torch.tensor(self.labels[idx])\n",
        "        return item\n",
        "\n",
        "# Prepare dataset\n",
        "labels = data[['toxic', 'severe_toxic', 'obscene', 'threat', 'insult', 'identity_hate']].values\n",
        "comments = data['comment_text'].tolist()\n",
        "\n",
        "# Split the dataset\n",
        "train_comments, val_comments, train_labels, val_labels = train_test_split(comments, labels, test_size=0.2, random_state=42)\n",
        "\n",
        "# Create datasets\n",
        "train_dataset = CommentDataset(train_comments, train_labels)\n",
        "val_dataset = CommentDataset(val_comments, val_labels)"
      ],
      "metadata": {
        "id": "JKwRMQdD6Vj2"
      },
      "execution_count": 46,
      "outputs": []
    },
    {
      "cell_type": "code",
      "source": [
        "from transformers import BertForSequenceClassification\n",
        "from torch.optim import AdamW\n",
        "device = torch.device(\"cuda\" if torch.cuda.is_available() else \"cpu\")\n",
        "# device = 'cpu'\n",
        "\n",
        "# Load the pre-trained BERT model\n",
        "model = BertForSequenceClassification.from_pretrained(\n",
        "    'bert-base-uncased',\n",
        "    num_labels=6\n",
        ")\n",
        "model.to(device)\n",
        "\n",
        "# Optimizer\n",
        "optimizer = AdamW(model.parameters(), lr=2e-5)\n"
      ],
      "metadata": {
        "colab": {
          "base_uri": "https://localhost:8080/"
        },
        "id": "ppvMjxZg8eW8",
        "outputId": "d4c31133-c1b7-4eb8-eac1-60e1901cbf37"
      },
      "execution_count": 47,
      "outputs": [
        {
          "output_type": "stream",
          "name": "stderr",
          "text": [
            "Some weights of BertForSequenceClassification were not initialized from the model checkpoint at bert-base-uncased and are newly initialized: ['classifier.weight', 'classifier.bias']\n",
            "You should probably TRAIN this model on a down-stream task to be able to use it for predictions and inference.\n"
          ]
        }
      ]
    },
    {
      "cell_type": "code",
      "source": [
        "from torch.nn import BCEWithLogitsLoss"
      ],
      "metadata": {
        "id": "7FBcUMNSJdd-"
      },
      "execution_count": 48,
      "outputs": []
    },
    {
      "cell_type": "code",
      "source": [
        "\n",
        "def train(model, train_loader, optimizer, epochs=1):\n",
        "    model.train()\n",
        "\n",
        "    for epoch in range(epochs):\n",
        "        total_loss = 0\n",
        "        for i, batch in enumerate(train_loader):\n",
        "            optimizer.zero_grad()\n",
        "\n",
        "            input_ids = batch['input_ids'].to(device)\n",
        "            attention_mask = batch['attention_mask'].to(device)\n",
        "            labels = batch['labels'].to(device)\n",
        "\n",
        "            # Forward pass\n",
        "            outputs = model(input_ids=input_ids, attention_mask=attention_mask)\n",
        "\n",
        "            # Compute loss: Ensure labels are of the correct shape\n",
        "            logits = outputs.logits\n",
        "            loss_fn = BCEWithLogitsLoss()\n",
        "            loss = loss_fn(logits, labels.float())\n",
        "\n",
        "            loss.backward()\n",
        "            optimizer.step()\n",
        "            batch_loss = loss.item()\n",
        "            total_loss += loss.item()\n",
        "\n",
        "# Print loss for each batch\n",
        "            print(f'Epoch {epoch+1}, Batch {i+1}/{len(train_loader)}, Batch Loss: {batch_loss}')\n",
        "\n",
        "        # Print total loss for the epoch\n",
        "        print(f'Epoch {epoch+1}, Total Loss: {total_loss / len(train_loader)}')\n",
        "train_loader = DataLoader(train_dataset, batch_size=8, shuffle=True)\n",
        "train(model, train_loader, optimizer)"
      ],
      "metadata": {
        "colab": {
          "base_uri": "https://localhost:8080/"
        },
        "id": "5TlBOdc0J7S_",
        "outputId": "9acb3862-f1f3-492e-da3e-ea2912424a0b"
      },
      "execution_count": 52,
      "outputs": [
        {
          "output_type": "stream",
          "name": "stdout",
          "text": [
            "Epoch 1, Batch 15936/15957, Batch Loss: 0.03932883217930794\n",
            "Epoch 1, Batch 15937/15957, Batch Loss: 0.006917535327374935\n",
            "Epoch 1, Batch 15938/15957, Batch Loss: 0.0863385945558548\n",
            "Epoch 1, Batch 15939/15957, Batch Loss: 0.0003109783574473113\n",
            "Epoch 1, Batch 15940/15957, Batch Loss: 0.001189853181131184\n",
            "Epoch 1, Batch 15941/15957, Batch Loss: 0.07620935142040253\n",
            "Epoch 1, Batch 15942/15957, Batch Loss: 0.0003191116265952587\n",
            "Epoch 1, Batch 15943/15957, Batch Loss: 0.05924845486879349\n",
            "Epoch 1, Batch 15944/15957, Batch Loss: 0.012598611414432526\n",
            "Epoch 1, Batch 15945/15957, Batch Loss: 0.0009174399892799556\n",
            "Epoch 1, Batch 15946/15957, Batch Loss: 0.03199072554707527\n",
            "Epoch 1, Batch 15947/15957, Batch Loss: 0.04256858676671982\n",
            "Epoch 1, Batch 15948/15957, Batch Loss: 0.0005401548696681857\n",
            "Epoch 1, Batch 15949/15957, Batch Loss: 0.04476992040872574\n",
            "Epoch 1, Batch 15950/15957, Batch Loss: 0.07974638044834137\n",
            "Epoch 1, Batch 15951/15957, Batch Loss: 0.019866935908794403\n",
            "Epoch 1, Batch 15952/15957, Batch Loss: 0.009250661358237267\n",
            "Epoch 1, Batch 15953/15957, Batch Loss: 0.024542227387428284\n",
            "Epoch 1, Batch 15954/15957, Batch Loss: 0.008908836171030998\n",
            "Epoch 1, Batch 15955/15957, Batch Loss: 0.05093453451991081\n",
            "Epoch 1, Batch 15956/15957, Batch Loss: 0.023796387016773224\n",
            "Epoch 1, Batch 15957/15957, Batch Loss: 0.03524591773748398\n",
            "Epoch 1, Total Loss: 0.042526150649653885\n"
          ]
        }
      ]
    },
    {
      "cell_type": "code",
      "source": [
        "def evaluate(model, val_loader):\n",
        "    model.eval()\n",
        "\n",
        "    total_loss = 0\n",
        "    loss_fn = BCEWithLogitsLoss()\n",
        "\n",
        "    with torch.no_grad():\n",
        "        for batch in val_loader:\n",
        "            input_ids = batch['input_ids'].to(device)\n",
        "            attention_mask = batch['attention_mask'].to(device)\n",
        "            labels = batch['labels'].to(device)\n",
        "            outputs = model(input_ids=input_ids, attention_mask=attention_mask)\n",
        "            logits = outputs.logits\n",
        "            loss = loss_fn(logits, labels.float())\n",
        "            total_loss += loss.item()\n",
        "\n",
        "    print(f'Validation Loss: {total_loss / len(val_loader)}')\n",
        "\n",
        "# Evaluate the model\n",
        "val_loader = DataLoader(val_dataset, batch_size=8)\n",
        "\n",
        "evaluate(model, val_loader)\n"
      ],
      "metadata": {
        "colab": {
          "base_uri": "https://localhost:8080/"
        },
        "id": "NzFOxtpaddbF",
        "outputId": "161d157b-dcf3-4af5-c7f6-97e772d773eb"
      },
      "execution_count": 53,
      "outputs": [
        {
          "output_type": "stream",
          "name": "stdout",
          "text": [
            "Validation Loss: 0.0392671263384292\n"
          ]
        }
      ]
    },
    {
      "cell_type": "code",
      "source": [
        "X_test = pd.read_csv(\"/content/test.csv\")\n",
        "y_test = pd.read_csv(\"/content/test_labels.csv\")"
      ],
      "metadata": {
        "id": "QASsEj4TJ_AZ"
      },
      "execution_count": 54,
      "outputs": []
    },
    {
      "cell_type": "code",
      "source": [
        "X_test = X_test['comment_text']\n",
        "y_test = y_test[['toxic', 'severe_toxic', 'obscene', 'threat', 'insult', 'identity_hate']]"
      ],
      "metadata": {
        "id": "jAKO7-dXj7k5"
      },
      "execution_count": 55,
      "outputs": []
    },
    {
      "cell_type": "code",
      "source": [
        "indices_to_remove = y_test[y_test['toxic'] == -1].index\n",
        "\n",
        "y_test_filtered = y_test.drop(indices_to_remove)\n",
        "X_test_filtered = X_test.drop(indices_to_remove)"
      ],
      "metadata": {
        "id": "w8T7_81lkAFE"
      },
      "execution_count": 56,
      "outputs": []
    },
    {
      "cell_type": "code",
      "source": [
        "test_comments = X_test_filtered.tolist()\n",
        "\n",
        "# Create a dataset for test data\n",
        "class TestDataset(Dataset):\n",
        "    def __init__(self, comments):\n",
        "        self.comments = [tokenize_data(comment) for comment in comments]\n",
        "\n",
        "    def __len__(self):\n",
        "        return len(self.comments)\n",
        "\n",
        "    def __getitem__(self, idx):\n",
        "        item = {key: val.squeeze().to(device) for key, val in self.comments[idx].items()}\n",
        "        return item\n",
        "\n",
        "test_dataset = TestDataset(test_comments)\n",
        "\n",
        "# Create DataLoader for test data\n",
        "test_loader = DataLoader(test_dataset, batch_size=8)\n"
      ],
      "metadata": {
        "id": "ZXxuwKDjkDux"
      },
      "execution_count": 57,
      "outputs": []
    },
    {
      "cell_type": "code",
      "source": [
        "from sklearn.metrics import accuracy_score\n",
        "\n",
        "def evaluate_model_accuracy(model, data_loader):\n",
        "    model.eval()\n",
        "    all_preds = []\n",
        "    all_labels = []\n",
        "\n",
        "    with torch.no_grad():\n",
        "        for batch in data_loader:\n",
        "            input_ids = batch['input_ids'].to(device)\n",
        "            attention_mask = batch['attention_mask'].to(device)\n",
        "            labels = batch['labels'].to(device)\n",
        "\n",
        "            outputs = model(input_ids=input_ids, attention_mask=attention_mask)\n",
        "            logits = outputs.logits\n",
        "            preds = torch.sigmoid(logits).cpu().numpy() > 0.5  # Converting to binary output\n",
        "            all_preds.extend(preds)\n",
        "            all_labels.extend(labels.cpu().numpy())\n",
        "\n",
        "    # Calculate accuracy\n",
        "    accuracy = accuracy_score(np.array(all_labels), np.array(all_preds))\n",
        "    return accuracy\n",
        "\n",
        "# Assuming y_test_filtered is available and properly formatted\n",
        "y_test_filtered_labels = y_test_filtered.values\n",
        "test_dataset_with_labels = CommentDataset(test_comments, y_test_filtered_labels)\n",
        "test_loader_with_labels = DataLoader(test_dataset_with_labels, batch_size=5)\n",
        "\n",
        "# Get accuracy\n",
        "accuracy = evaluate_model_accuracy(model, test_loader_with_labels)\n",
        "print(f\"Accuracy: {accuracy}\")\n"
      ],
      "metadata": {
        "colab": {
          "base_uri": "https://localhost:8080/"
        },
        "id": "h1RBrSXCk1QZ",
        "outputId": "da08c5ed-f3f8-40f8-aeee-5bfe9298c16e"
      },
      "execution_count": 58,
      "outputs": [
        {
          "output_type": "stream",
          "name": "stdout",
          "text": [
            "Accuracy: 0.8567632623714402\n"
          ]
        }
      ]
    },
    {
      "cell_type": "markdown",
      "source": [
        "# **Custom sentence**\n",
        "We add functionality where we can test our own sentences and the model can give us accurate results in terms of what the content of the message is."
      ],
      "metadata": {
        "id": "CpiZ2_Uv1iJa"
      }
    },
    {
      "cell_type": "code",
      "source": [
        "sen = \"Kanye west is the greatest of all time\"\n",
        "\n"
      ],
      "metadata": {
        "id": "kP2lVbTmlJTE"
      },
      "execution_count": 132,
      "outputs": []
    },
    {
      "cell_type": "code",
      "source": [
        "def preprocess_for_bert(sentence, tokenizer, max_length=512):\n",
        "    \"\"\"Preprocess a single sentence for BERT.\"\"\"\n",
        "    inputs = tokenizer.encode_plus(\n",
        "        sentence,\n",
        "        add_special_tokens=True,\n",
        "        max_length=max_length,\n",
        "        truncation=True,\n",
        "        padding='max_length',\n",
        "        return_tensors='pt'\n",
        "    )\n",
        "    return inputs\n",
        "\n",
        "# Example sentence\n",
        "\n",
        "# Tokenize the sentence\n",
        "inputs = preprocess_for_bert(sen, tokenizer)\n"
      ],
      "metadata": {
        "id": "mZhJlW27o-M8"
      },
      "execution_count": 133,
      "outputs": []
    },
    {
      "cell_type": "code",
      "source": [
        "# Move inputs to device\n",
        "input_ids = inputs['input_ids'].to(device)\n",
        "attention_mask = inputs['attention_mask'].to(device)\n"
      ],
      "metadata": {
        "id": "qKamczGWpnVq"
      },
      "execution_count": 134,
      "outputs": []
    },
    {
      "cell_type": "code",
      "source": [
        "model.eval()\n",
        "\n",
        "# Predict\n",
        "with torch.no_grad():\n",
        "    outputs = model(input_ids=input_ids, attention_mask=attention_mask)\n",
        "    logits = outputs.logits\n",
        "    probabilities = torch.sigmoid(logits).squeeze()\n",
        "\n",
        "# Convert probabilities to numpy array\n",
        "probabilities = probabilities.cpu().numpy()"
      ],
      "metadata": {
        "id": "egVeki1rpp8w"
      },
      "execution_count": 135,
      "outputs": []
    },
    {
      "cell_type": "markdown",
      "source": [
        "This returns the predicted labels in a list, so just numbers"
      ],
      "metadata": {
        "id": "i2miS88V5UY9"
      }
    },
    {
      "cell_type": "code",
      "source": [
        "threshold = 0.5\n",
        "predicted_labels = (probabilities > threshold).astype(int)\n",
        "\n",
        "# Print predicted labels\n",
        "print(\"Predicted labels:\", predicted_labels)\n"
      ],
      "metadata": {
        "colab": {
          "base_uri": "https://localhost:8080/"
        },
        "id": "ABCqeG5-ptz0",
        "outputId": "a4c4a749-8124-4fd7-ea89-cb3ef49fa83b"
      },
      "execution_count": 136,
      "outputs": [
        {
          "output_type": "stream",
          "name": "stdout",
          "text": [
            "Predicted labels: [0 0 0 0 0 0]\n"
          ]
        }
      ]
    },
    {
      "cell_type": "code",
      "source": [
        "labels = ['toxic', 'severe_toxic', 'obscene', 'threat', 'insult', 'identity_hate']\n",
        "\n",
        "predicted_probabilities = list(zip(labels, probabilities))\n",
        "\n",
        "\n",
        "for label, prob in predicted_probabilities:\n",
        "    print(f\"{label}: {prob:.4f}\")\n",
        "threshold = 0.5\n",
        "predicted_labels = (probabilities > threshold).astype(int)\n",
        "# we want the numpy array to match with the names of the class, thus we use a dictionary\n",
        "predicted_labels_dict = dict(zip(labels, predicted_labels))\n",
        "\n",
        "\n",
        "for label, label_class in predicted_labels_dict.items():\n",
        "    print(f\"{label}: {'Yes' if label_class == 1 else 'No'}\")\n"
      ],
      "metadata": {
        "colab": {
          "base_uri": "https://localhost:8080/"
        },
        "id": "H8VcV4xppxV8",
        "outputId": "e121358a-8d19-4ec6-c1ab-7edf344df166"
      },
      "execution_count": 111,
      "outputs": [
        {
          "output_type": "stream",
          "name": "stdout",
          "text": [
            "toxic: 0.9979\n",
            "severe_toxic: 0.6118\n",
            "obscene: 0.9911\n",
            "threat: 0.0195\n",
            "insult: 0.9603\n",
            "identity_hate: 0.0773\n",
            "toxic: Yes\n",
            "severe_toxic: Yes\n",
            "obscene: Yes\n",
            "threat: No\n",
            "insult: Yes\n",
            "identity_hate: No\n"
          ]
        }
      ]
    },
    {
      "cell_type": "markdown",
      "source": [
        "# **In this section we look at how we can get some better more detailed statistics\n",
        "\n",
        "\n",
        "\n",
        "**"
      ],
      "metadata": {
        "id": "nAKn1GU-5aky"
      }
    },
    {
      "cell_type": "code",
      "source": [
        "def predict(sentence, model, tokenizer, device):\n",
        "    \"\"\"Generate predictions for a single sentence.\"\"\"\n",
        "    inputs = preprocess_for_bert(sentence, tokenizer)\n",
        "    input_ids = inputs['input_ids'].to(device)\n",
        "    attention_mask = inputs['attention_mask'].to(device)\n",
        "\n",
        "    model.eval()\n",
        "    with torch.no_grad():\n",
        "        outputs = model(input_ids=input_ids, attention_mask=attention_mask)\n",
        "        logits = outputs.logits\n",
        "        probabilities = torch.sigmoid(logits).squeeze()\n",
        "        return probabilities.cpu().numpy()\n",
        "\n",
        "# Example test data\n",
        "test_sentences = [\"Test sentence 1\", \"Test sentence 2\", ...]  # Replace with your sentences\n",
        "true_labels = [...]  # Replace with the true labels for the test data\n",
        "\n",
        "predicted_probs = [predict(sentence, model, tokenizer, device) for sentence in test_sentences]\n",
        "predicted_labels = [(prob > 0.5).astype(int) for prob in predicted_probs]\n"
      ],
      "metadata": {
        "id": "aBNBKFE7zWN6"
      },
      "execution_count": null,
      "outputs": []
    },
    {
      "cell_type": "code",
      "source": [
        "from torch.utils.data import DataLoader\n",
        "\n",
        "# Create a DataLoader for the test dataset\n",
        "test_loader = DataLoader(test_dataset_with_labels, batch_size=32, shuffle=False)\n",
        "\n",
        "# List to store predictions\n",
        "all_predictions = []\n",
        "\n",
        "# Predict\n",
        "model.eval()  # Put the model in evaluation mode\n",
        "with torch.no_grad():\n",
        "    for batch in test_loader:\n",
        "        input_ids = batch['input_ids'].to(device)\n",
        "        attention_mask = batch['attention_mask'].to(device)\n",
        "\n",
        "        outputs = model(input_ids=input_ids, attention_mask=attention_mask)\n",
        "        logits = outputs.logits\n",
        "        predictions = torch.sigmoid(logits)\n",
        "        all_predictions.append(predictions)\n",
        "\n",
        "# Concatenate all predictions\n",
        "predictions = torch.cat(all_predictions, dim=0)\n"
      ],
      "metadata": {
        "id": "X0tJypWc0idw"
      },
      "execution_count": 65,
      "outputs": []
    },
    {
      "cell_type": "code",
      "source": [
        "threshold = 0.5\n",
        "predicted_labels = (predictions > threshold).cpu().numpy()\n",
        "\n"
      ],
      "metadata": {
        "id": "hythMNPv0sEh"
      },
      "execution_count": 76,
      "outputs": []
    },
    {
      "cell_type": "code",
      "source": [
        "from sklearn.metrics import classification_report\n",
        "\n",
        "\n",
        "true_labels = np.array([item['labels'].cpu().numpy() for item in test_dataset_with_labels])\n",
        "\n",
        "\n",
        "predicted_labels = (predictions > threshold).cpu().numpy()\n",
        "\n",
        "\n",
        "report = classification_report(true_labels, predicted_labels, target_names=['toxic', 'severe_toxic', 'obscene', 'threat', 'insult', 'identity_hate'])\n",
        "\n",
        "print(report)\n",
        "\n"
      ],
      "metadata": {
        "colab": {
          "base_uri": "https://localhost:8080/"
        },
        "id": "pDkpZU1w05C4",
        "outputId": "56878a1a-e012-479f-b582-43874389c649"
      },
      "execution_count": 81,
      "outputs": [
        {
          "output_type": "stream",
          "name": "stdout",
          "text": [
            "               precision    recall  f1-score   support\n",
            "\n",
            "        toxic       0.50      0.92      0.65      6090\n",
            " severe_toxic       0.32      0.59      0.41       367\n",
            "      obscene       0.55      0.82      0.66      3691\n",
            "       threat       0.60      0.49      0.54       211\n",
            "       insult       0.64      0.74      0.69      3427\n",
            "identity_hate       0.79      0.41      0.54       712\n",
            "\n",
            "    micro avg       0.54      0.81      0.65     14498\n",
            "    macro avg       0.57      0.66      0.58     14498\n",
            " weighted avg       0.56      0.81      0.65     14498\n",
            "  samples avg       0.08      0.08      0.08     14498\n",
            "\n"
          ]
        },
        {
          "output_type": "stream",
          "name": "stderr",
          "text": [
            "/usr/local/lib/python3.10/dist-packages/sklearn/metrics/_classification.py:1344: UndefinedMetricWarning: Precision and F-score are ill-defined and being set to 0.0 in samples with no predicted labels. Use `zero_division` parameter to control this behavior.\n",
            "  _warn_prf(average, modifier, msg_start, len(result))\n",
            "/usr/local/lib/python3.10/dist-packages/sklearn/metrics/_classification.py:1344: UndefinedMetricWarning: Recall and F-score are ill-defined and being set to 0.0 in samples with no true labels. Use `zero_division` parameter to control this behavior.\n",
            "  _warn_prf(average, modifier, msg_start, len(result))\n"
          ]
        }
      ]
    },
    {
      "cell_type": "code",
      "source": [],
      "metadata": {
        "id": "2eJhCZIv1CdY"
      },
      "execution_count": null,
      "outputs": []
    }
  ]
}